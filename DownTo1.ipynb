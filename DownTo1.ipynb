{
 "cells": [
  {
   "cell_type": "markdown",
   "metadata": {},
   "source": [
    "# Determine the Number of Steps Required to get Down to 1\n",
    "#### For any number, i, the next number in the sequence is *i/2* if i is even or *3i+1* if i is odd"
   ]
  },
  {
   "cell_type": "code",
   "execution_count": 1,
   "metadata": {},
   "outputs": [
    {
     "name": "stdout",
     "output_type": "stream",
     "text": [
      " 5:  5 steps\n",
      " 6:  8 steps\n",
      " 7: 16 steps\n",
      " 8:  3 steps\n",
      " 9: 19 steps\n",
      "10:  6 steps\n",
      "11: 14 steps\n",
      "12:  9 steps\n",
      "13:  9 steps\n",
      "14: 17 steps\n",
      "15: 17 steps\n",
      "16:  4 steps\n",
      "17: 12 steps\n",
      "18: 20 steps\n",
      "19: 20 steps\n",
      "20:  7 steps\n"
     ]
    }
   ],
   "source": [
    "for i in range(5, 21):                 # Iterate over the numbers from 5 to 20\n",
    "    num_steps = 0                      \n",
    "    curr_val = i                       # Current value in the sequence begins at i\n",
    "    \n",
    "    while(curr_val != 1):              # Continue looping the sequence until it reaches 1\n",
    "        if(curr_val % 2 == 0):         # Check if the current value is even and \n",
    "            curr_val /= 2              # divide by 2 if True\n",
    "        else:\n",
    "            curr_val = 3*curr_val+1    # Otherwise multiply by 3 and add 1\n",
    "        num_steps += 1                 # Increment the number of steps taken\n",
    "    \n",
    "    # Print each number followed by the number of steps taken for it to reach 1\n",
    "    print(\"{:2d}: {:2d} steps\".format(i, num_steps))"
   ]
  }
 ],
 "metadata": {
  "kernelspec": {
   "display_name": "Python 3",
   "language": "python",
   "name": "python3"
  },
  "language_info": {
   "codemirror_mode": {
    "name": "ipython",
    "version": 3
   },
   "file_extension": ".py",
   "mimetype": "text/x-python",
   "name": "python",
   "nbconvert_exporter": "python",
   "pygments_lexer": "ipython3",
   "version": "3.8.3"
  }
 },
 "nbformat": 4,
 "nbformat_minor": 4
}
